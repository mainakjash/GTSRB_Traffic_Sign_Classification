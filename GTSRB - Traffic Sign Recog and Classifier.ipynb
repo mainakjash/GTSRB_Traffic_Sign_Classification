{
 "cells": [
  {
   "cell_type": "code",
   "execution_count": 3,
   "metadata": {},
   "outputs": [
    {
     "name": "stderr",
     "output_type": "stream",
     "text": [
      "Using TensorFlow backend.\n"
     ]
    }
   ],
   "source": [
    "# Importing the libraries\n",
    "\n",
    "import numpy as np \n",
    "import pandas as pd \n",
    "import matplotlib.pyplot as plt\n",
    "import cv2\n",
    "import tensorflow as tf\n",
    "from PIL import Image\n",
    "import os\n",
    "from sklearn.model_selection import train_test_split\n",
    "from keras.utils import to_categorical\n",
    "from keras.models import Sequential, load_model\n",
    "from keras.layers import Conv2D, MaxPool2D, Dense, Flatten, Dropout"
   ]
  },
  {
   "cell_type": "code",
   "execution_count": 19,
   "metadata": {},
   "outputs": [],
   "source": [
    "# Getting images and associated labels\n",
    "\n",
    "data =[]\n",
    "labels = []\n",
    "classes = 43\n",
    "cur_path =\"<working directory filepath>\"\n",
    "\n",
    "for i in range(classes):\n",
    "    path = os.path.join(cur_path,'train',str(i))\n",
    "    images = os.listdir(path)\n",
    "\n",
    "    for a in images:\n",
    "        try:\n",
    "            image = Image.open(path + '\\\\'+ a)\n",
    "            image = image.resize((30,30))\n",
    "            image = np.array(image)\n",
    "            #sim = Image.fromarray(image)\n",
    "            data.append(image)\n",
    "            labels.append(i)\n",
    "        except:\n",
    "            print(\"Error loading image\")"
   ]
  },
  {
   "cell_type": "code",
   "execution_count": 5,
   "metadata": {},
   "outputs": [
    {
     "name": "stdout",
     "output_type": "stream",
     "text": [
      "(39209, 30, 30, 3) (39209,)\n"
     ]
    }
   ],
   "source": [
    "data = np.array(data)\n",
    "labels = np.array(labels)\n",
    "\n",
    "print(data.shape, labels.shape)"
   ]
  },
  {
   "cell_type": "code",
   "execution_count": 6,
   "metadata": {},
   "outputs": [
    {
     "name": "stdout",
     "output_type": "stream",
     "text": [
      "(31367, 30, 30, 3) (7842, 30, 30, 3) (31367,) (7842,)\n"
     ]
    }
   ],
   "source": [
    "# Training and test datasets\n",
    "\n",
    "X_train, X_test, y_train, y_test = train_test_split(data, labels, test_size = 0.2, random_state = 42)\n",
    "\n",
    "print(X_train.shape, X_test.shape, y_train.shape, y_test.shape)"
   ]
  },
  {
   "cell_type": "code",
   "execution_count": 7,
   "metadata": {},
   "outputs": [],
   "source": [
    "# One hot encoding for labels\n",
    "\n",
    "y_train = to_categorical(y_train)\n",
    "y_test = to_categorical(y_test)"
   ]
  },
  {
   "cell_type": "code",
   "execution_count": 10,
   "metadata": {},
   "outputs": [],
   "source": [
    "# Building the model\n",
    "\n",
    "model = Sequential()\n",
    "\n",
    "model.add(Conv2D(filters = 32, kernel_size = (5,5), activation = 'relu', input_shape = X_train.shape[1:]))\n",
    "model.add(Conv2D(filters=32, kernel_size=(5,5), activation='relu'))\n",
    "model.add(MaxPool2D(pool_size=(2, 2)))\n",
    "model.add(Dropout(rate=0.25))\n",
    "model.add(Conv2D(filters=64, kernel_size=(3, 3), activation='relu'))\n",
    "model.add(Conv2D(filters=64, kernel_size=(3, 3), activation='relu'))\n",
    "model.add(MaxPool2D(pool_size=(2, 2)))\n",
    "model.add(Dropout(rate=0.25))\n",
    "model.add(Flatten())\n",
    "model.add(Dense(256, activation='relu'))\n",
    "model.add(Dropout(rate=0.5))\n",
    "model.add(Dense(43, activation='softmax'))"
   ]
  },
  {
   "cell_type": "code",
   "execution_count": 11,
   "metadata": {},
   "outputs": [],
   "source": [
    "# Compiling the model\n",
    "\n",
    "model.compile(loss = 'categorical_crossentropy', optimizer = 'adam', metrics = ['accuracy'])"
   ]
  },
  {
   "cell_type": "code",
   "execution_count": 14,
   "metadata": {},
   "outputs": [
    {
     "name": "stdout",
     "output_type": "stream",
     "text": [
      "Train on 31367 samples, validate on 7842 samples\n",
      "Epoch 1/20\n",
      "31367/31367 [==============================] - 118s 4ms/step - loss: 0.9006 - accuracy: 0.7320 - val_loss: 0.3387 - val_accuracy: 0.8998\n",
      "Epoch 2/20\n",
      "31367/31367 [==============================] - 118s 4ms/step - loss: 0.6216 - accuracy: 0.8094 - val_loss: 0.2223 - val_accuracy: 0.9310\n",
      "Epoch 3/20\n",
      "31367/31367 [==============================] - 117s 4ms/step - loss: 0.5347 - accuracy: 0.8377 - val_loss: 0.2240 - val_accuracy: 0.9309\n",
      "Epoch 4/20\n",
      "31367/31367 [==============================] - 118s 4ms/step - loss: 0.4819 - accuracy: 0.8561 - val_loss: 0.1630 - val_accuracy: 0.9496\n",
      "Epoch 5/20\n",
      "31367/31367 [==============================] - 119s 4ms/step - loss: 0.4514 - accuracy: 0.8698 - val_loss: 0.1602 - val_accuracy: 0.9522\n",
      "Epoch 6/20\n",
      "31367/31367 [==============================] - 119s 4ms/step - loss: 0.4096 - accuracy: 0.8807 - val_loss: 0.1302 - val_accuracy: 0.9583\n",
      "Epoch 7/20\n",
      "31367/31367 [==============================] - 119s 4ms/step - loss: 0.3707 - accuracy: 0.8909 - val_loss: 0.2836 - val_accuracy: 0.9141\n",
      "Epoch 8/20\n",
      "31367/31367 [==============================] - 119s 4ms/step - loss: 0.3982 - accuracy: 0.8889 - val_loss: 0.1268 - val_accuracy: 0.9633\n",
      "Epoch 9/20\n",
      "31367/31367 [==============================] - 118s 4ms/step - loss: 0.3622 - accuracy: 0.8968 - val_loss: 0.1068 - val_accuracy: 0.9667\n",
      "Epoch 10/20\n",
      "31367/31367 [==============================] - 117s 4ms/step - loss: 0.3281 - accuracy: 0.9086 - val_loss: 0.1151 - val_accuracy: 0.9660\n",
      "Epoch 11/20\n",
      "31367/31367 [==============================] - 116s 4ms/step - loss: 0.3720 - accuracy: 0.8977 - val_loss: 0.1335 - val_accuracy: 0.9607\n",
      "Epoch 12/20\n",
      "31367/31367 [==============================] - 116s 4ms/step - loss: 0.3691 - accuracy: 0.8977 - val_loss: 0.1567 - val_accuracy: 0.9597\n",
      "Epoch 13/20\n",
      "31367/31367 [==============================] - 118s 4ms/step - loss: 0.3668 - accuracy: 0.9022 - val_loss: 0.1328 - val_accuracy: 0.9643\n",
      "Epoch 14/20\n",
      "31367/31367 [==============================] - 120s 4ms/step - loss: 0.3899 - accuracy: 0.8966 - val_loss: 0.1548 - val_accuracy: 0.9564\n",
      "Epoch 15/20\n",
      "31367/31367 [==============================] - 120s 4ms/step - loss: 0.3836 - accuracy: 0.8987 - val_loss: 0.1057 - val_accuracy: 0.9685\n",
      "Epoch 16/20\n",
      "31367/31367 [==============================] - 120s 4ms/step - loss: 0.3665 - accuracy: 0.9022 - val_loss: 0.1725 - val_accuracy: 0.9481\n",
      "Epoch 17/20\n",
      "31367/31367 [==============================] - 120s 4ms/step - loss: 0.4043 - accuracy: 0.8964 - val_loss: 0.3104 - val_accuracy: 0.9102\n",
      "Epoch 18/20\n",
      "31367/31367 [==============================] - 120s 4ms/step - loss: 0.3800 - accuracy: 0.9004 - val_loss: 0.1283 - val_accuracy: 0.9629\n",
      "Epoch 19/20\n",
      "31367/31367 [==============================] - 120s 4ms/step - loss: 0.3865 - accuracy: 0.9009 - val_loss: 0.1041 - val_accuracy: 0.9726\n",
      "Epoch 20/20\n",
      "31367/31367 [==============================] - 122s 4ms/step - loss: 0.4007 - accuracy: 0.8996 - val_loss: 0.1244 - val_accuracy: 0.9657\n"
     ]
    }
   ],
   "source": [
    "# Training the model\n",
    "\n",
    "epochs = 20\n",
    "\n",
    "history = model.fit(X_train, y_train, batch_size = 16, epochs=epochs, validation_data=(X_test, y_test))\n",
    "\n",
    "model.save(\"my_model.h5\")"
   ]
  },
  {
   "cell_type": "code",
   "execution_count": 15,
   "metadata": {},
   "outputs": [
    {
     "data": {
      "image/png": "[encoded data removed]",
      "text/plain": [
       "<Figure size 432x288 with 1 Axes>"
      ]
     },
     "metadata": {
      "needs_background": "light"
     },
     "output_type": "display_data"
    },
    {
     "data": {
      "image/png": "[encoded data removed]",
      "text/plain": [
       "<Figure size 432x288 with 1 Axes>"
      ]
     },
     "metadata": {
      "needs_background": "light"
     },
     "output_type": "display_data"
    }
   ],
   "source": [
    "# Plotting training and validation (accuracy and loss) curves\n",
    "\n",
    "plt.figure(0)\n",
    "plt.plot(history.history['accuracy'], label='training accuracy')\n",
    "plt.plot(history.history['val_accuracy'], label='val accuracy')\n",
    "plt.title('Accuracy')\n",
    "plt.xlabel('epochs')\n",
    "plt.ylabel('accuracy')\n",
    "plt.legend()\n",
    "plt.show()\n",
    "\n",
    "plt.figure(1)\n",
    "plt.plot(history.history['loss'], label='training loss')\n",
    "plt.plot(history.history['val_loss'], label='val loss')\n",
    "plt.title('Loss')\n",
    "plt.xlabel('epochs')\n",
    "plt.ylabel('loss')\n",
    "plt.legend()\n",
    "plt.show()"
   ]
  },
  {
   "cell_type": "code",
   "execution_count": 26,
   "metadata": {},
   "outputs": [],
   "source": [
    "# Testing accuracy on test dataset\n",
    "\n",
    "from sklearn.metrics import accuracy_score\n",
    "\n",
    "y_test = pd.read_csv(\"<working directory filepath>/Test.csv\")\n",
    "\n",
    "labels = y_test[\"ClassId\"].values\n",
    "y_test['Path'] = \"<working directory filepath>\"+ '/' + y_test['Path']\n",
    "imgs = y_test[\"Path\"].values\n",
    "\n",
    "data=[]\n"
   ]
  },
  {
   "cell_type": "code",
   "execution_count": 27,
   "metadata": {},
   "outputs": [
    {
     "data": {
      "text/plain": [
       "array(['C:/Users/haima/Traffic Sign Recog/Test/00000.png',\n",
       "       'C:/Users/haima/Traffic Sign Recog/Test/00001.png',\n",
       "       'C:/Users/haima/Traffic Sign Recog/Test/00002.png', ...,\n",
       "       'C:/Users/haima/Traffic Sign Recog/Test/12627.png',\n",
       "       'C:/Users/haima/Traffic Sign Recog/Test/12628.png',\n",
       "       'C:/Users/haima/Traffic Sign Recog/Test/12629.png'], dtype=object)"
      ]
     },
     "execution_count": 27,
     "metadata": {},
     "output_type": "execute_result"
    }
   ],
   "source": [
    "imgs"
   ]
  },
  {
   "cell_type": "code",
   "execution_count": 28,
   "metadata": {},
   "outputs": [],
   "source": [
    "cur_path =\"C:/Users/haima/Traffic Sign Recog\"\n",
    "\n",
    "for img in imgs:\n",
    "    image = Image.open(img)\n",
    "    image = image.resize((30,30))\n",
    "    data.append(np.array(image))\n",
    "\n",
    "X_test=np.array(data)\n",
    "\n",
    "pred = model.predict_classes(X_test)\n"
   ]
  },
  {
   "cell_type": "code",
   "execution_count": 29,
   "metadata": {},
   "outputs": [
    {
     "name": "stdout",
     "output_type": "stream",
     "text": [
      "0.9167854315122723\n"
     ]
    }
   ],
   "source": [
    "#Accuracy with the test data\n",
    "\n",
    "from sklearn.metrics import accuracy_score\n",
    "print(accuracy_score(labels, pred))"
   ]
  },
  {
   "cell_type": "code",
   "execution_count": 31,
   "metadata": {},
   "outputs": [],
   "source": [
    "# Saving the model\n",
    "\n",
    "model.save(\"traffic_classifier.h5\")"
   ]
  },
  {
   "cell_type": "code",
   "execution_count": null,
   "metadata": {},
   "outputs": [],
   "source": []
  }
 ],
 "metadata": {
  "kernelspec": {
   "display_name": "Python 3",
   "language": "python",
   "name": "python3"
  },
  "language_info": {
   "codemirror_mode": {
    "name": "ipython",
    "version": 3
   },
   "file_extension": ".py",
   "mimetype": "text/x-python",
   "name": "python",
   "nbconvert_exporter": "python",
   "pygments_lexer": "ipython3",
   "version": "3.7.3"
  }
 },
 "nbformat": 4,
 "nbformat_minor": 2
}
